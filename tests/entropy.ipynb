{
 "cells": [
  {
   "cell_type": "markdown",
   "id": "9d9355bd",
   "metadata": {},
   "source": [
    "# Entropy\n",
    "\n",
    "Saleh Rezaeiravesh, saleh.rezaeiravesh@manchester.ac.uk\n",
    "___"
   ]
  },
  {
   "cell_type": "code",
   "execution_count": 1,
   "id": "511060c8",
   "metadata": {},
   "outputs": [],
   "source": [
    "import numpy as np\n",
    "import matplotlib.pyplot as plt\n",
    "\n",
    "import sys\n",
    "sys.path.append('../core/')\n",
    "from entropy import entropy\n",
    "\n",
    "sys.path.append('../fromUQit_ts/')\n",
    "from synDataGen_ts import syntheticData"
   ]
  },
  {
   "cell_type": "markdown",
   "id": "948c5aec",
   "metadata": {},
   "source": [
    "## Shannon Entropy\n",
    "\"Average number of bits needed to optimally encode independent draws of the discrete variable I following probability distribution p(i)\"\n",
    "\n",
    "\n",
    "The entropy of a **discrete** random variable $X$ with a probability density (mass) function $p(x)$ is given by, \n",
    "\n",
    "$$\n",
    "H(x) = -\\sum_{x} p(x) \\log_b(p(x))\n",
    "$$\n",
    "\n",
    "where, `b` can be $2$, $e$, etc. By default, we will use natural logarithmic function, i.e. $b=e$.\n",
    "\n",
    "For a continuous RAV:\n",
    "\n",
    "$$\n",
    "H(x) = -\\int f(x)\\log_b f(x) d x\n",
    "$$"
   ]
  },
  {
   "cell_type": "markdown",
   "id": "47468265",
   "metadata": {},
   "source": [
    "## Methods of estimating Shannon entropy\n",
    "1. Binning method \n",
    "2. Kernel Density Estimator (KDE) method\n",
    "3. K-th Nearest Neighbourhood (KNN) method \n",
    "\n",
    "### K-th Nearest Neighbourhood (KNN) or KL method \n",
    "It is a **non-parametric** way of estimating entropy for **Continuous RVs** that is also more efficient than the binning method with minimal bias. It works based on the **$k$-th nearest neighbour (KNN)** algorithm. \n",
    "\n",
    "Reference:[Kraskov-Stogbauer-Grassberger, 2004](https://journals.aps.org/pre/abstract/10.1103/PhysRevE.69.066138)\n",
    "\n",
    "Consider a set of samples $\\{x_1,x_2,\\cdots,x_n\\}$ as $n$ realizations of a continuous RV $x$. \n",
    "\n",
    "$$\n",
    "\\hat{H}(X) = -\\psi(k)+\\psi(N)+\\ln c_d +\\frac{d}{n}\\sum_{i=1}^n \\ln \\epsilon_i\n",
    "$$\n",
    "\n",
    "where\n",
    "* $k$ is an integer; Nabove is calculated consindering the $k$-th nearest neigbour of $x_i$. Note that $k=1$ means resolving structures down to the smallest possible scale;\n",
    "* $d$ is the dimensionality of $x$, \n",
    "* $N$ is the sample size,\n",
    "* $\\psi(\\cdot)$ is the digamma function; $\\psi(x) = \\frac{d\\ln \\Gamma(x)}{d x}$,\n",
    "* $c_d$ is the volume of the $d$-dimensional unit ball: $c_d=1$ for $L_\\infty$ norm, and $c_d=\\pi^{d/2}/\\Gamma(1+d/2)/2^d$ for Euclidean ($L_2$) norm. \n",
    "* $\\epsilon(i)$ is twice the distance between $x_i$ and its $k$-th neighbour."
   ]
  },
  {
   "cell_type": "markdown",
   "id": "3c36710c",
   "metadata": {},
   "source": [
    "## Validation of the estimators for random variables\n",
    "Consider samples from random variables (not necessarily time series with definite statistical structure)\n",
    "\n",
    "In particular, for a random variable with **iid samples** $x\\sim \\mathcal{N}(\\mu,\\sigma^2)$, the exact entropy can be found from a closed form expression:\n",
    "\n",
    "$$\n",
    "H_{exact}(x) = \\frac{1}{2}\\ln(2\\pi e \\sigma^2)\n",
    "$$\n"
   ]
  },
  {
   "cell_type": "code",
   "execution_count": 2,
   "id": "06b4bcc9",
   "metadata": {},
   "outputs": [
    {
     "name": "stdout",
     "output_type": "stream",
     "text": [
      "H - Exact: 1.3135780175468466\n",
      "H - Binning method: 3.4035187370608075\n",
      "H - KDE method: 1.3210734029948856\n",
      "H - KL method: 1.3150377192274219\n"
     ]
    }
   ],
   "source": [
    "# Generate samples from a Gaussian RV\n",
    "np.random.seed(seed=201)\n",
    "sig = 0.9     #exact sdev of the RV\n",
    "x = np.random.randn(10000)*sig   #samples\n",
    "\n",
    "#Exact entropy\n",
    "H_ex = 0.5*np.log(2.*np.pi*np.e*sig**2.)\n",
    "\n",
    "#Entropy - Binning method\n",
    "H_bin = entropy(x).binning(nbin=20)\n",
    "\n",
    "#Entropy - KDE method\n",
    "H_kde = entropy(x).kde()\n",
    "\n",
    "#Entropy - KL (KNN) method\n",
    "H_kl = entropy(x).kl()\n",
    "\n",
    "print(\"H - Exact:\",H_ex)\n",
    "print(\"H - Binning method:\",H_bin)\n",
    "print(\"H - KDE method:\",H_kde)\n",
    "print(\"H - KL method:\",H_kl)"
   ]
  },
  {
   "cell_type": "markdown",
   "id": "0ffceaf0",
   "metadata": {},
   "source": [
    "### Impact of number of bins on the esimtations from the Binning method\n",
    "Clearly, the estimated entropy from the Binning method is extremely sensitive to the bin size:"
   ]
  },
  {
   "cell_type": "code",
   "execution_count": 3,
   "id": "2fe05343",
   "metadata": {},
   "outputs": [],
   "source": [
    "binList=[5,10,15,20,30,40]\n",
    "Hlist=[]\n",
    "for nbin_ in binList:\n",
    "    H_bin = entropy(x).binning(nbin=nbin_)\n",
    "    Hlist.append(H_bin)"
   ]
  },
  {
   "cell_type": "code",
   "execution_count": 4,
   "id": "901a72a6",
   "metadata": {},
   "outputs": [
    {
     "data": {
      "image/png": "[encoded data removed]",
      "text/plain": [
       "<Figure size 640x480 with 1 Axes>"
      ]
     },
     "metadata": {},
     "output_type": "display_data"
    }
   ],
   "source": [
    "plt.semilogx(binList,Hlist,'-ob')\n",
    "plt.hlines(H_ex,min(binList),max(binList),label='Exact H')\n",
    "##plt.vlines(np.sqrt(len(x)),min(Hlist),max(Hlist),linestyles='dashed',color='red', label=r'$\\sqrt{n}$')\n",
    "plt.xlabel('$Number of bins$')\n",
    "plt.ylabel('$H_{KL}$')\n",
    "plt.legend(loc='best')\n",
    "plt.show()"
   ]
  },
  {
   "cell_type": "markdown",
   "id": "d916bbf2",
   "metadata": {},
   "source": [
    "### Impact of $k$ in the KL estimator\n",
    "Although KL entropy estimator is said to be non-parameteric, however, its estimations can rely on the choice for $k$. Generally speaking:\n",
    "\n",
    "* **Small values of $k$**: more localized effects in the PDF are considered.\n",
    "* **Large values of $k$**: more smoothened PDF, capturing general (non-local) effects. \n",
    "\n",
    "However, as compared to the Binning method, the sensitivity of the entropies by the KL estimator to $k$ can be lower:\n",
    "\n",
    "See the following example that aims to experimentally demonstrate the impact of $k$ on the entropy estimated by the KL method:"
   ]
  },
  {
   "cell_type": "code",
   "execution_count": 5,
   "id": "7400b6bf",
   "metadata": {},
   "outputs": [],
   "source": [
    "kList=[1,2,5,10,15,20,30,40,50,75,100,150,200,300,400,500]\n",
    "Hlist=[]\n",
    "for k_ in kList:\n",
    "    H_kl = entropy(x).kl(k=k_)\n",
    "    Hlist.append(H_kl)"
   ]
  },
  {
   "cell_type": "code",
   "execution_count": 6,
   "id": "729a0995",
   "metadata": {},
   "outputs": [
    {
     "data": {
      "image/png": "[encoded data removed]",
      "text/plain": [
       "<Figure size 640x480 with 1 Axes>"
      ]
     },
     "metadata": {},
     "output_type": "display_data"
    }
   ],
   "source": [
    "plt.semilogx(kList,Hlist,'-ob')\n",
    "plt.hlines(H_ex,min(kList),max(kList),label='Exact H')\n",
    "plt.vlines(np.sqrt(len(x)),min(Hlist),max(Hlist),linestyles='dashed',color='red', label=r'$\\sqrt{n}$')\n",
    "plt.xlabel('$k$')\n",
    "plt.ylabel('$H_{KL}$')\n",
    "plt.legend(loc='best')\n",
    "plt.show()"
   ]
  },
  {
   "cell_type": "markdown",
   "id": "459c8dfc",
   "metadata": {},
   "source": [
    "## Validation of the estimators for autocorelated time series"
   ]
  },
  {
   "cell_type": "markdown",
   "id": "41d3af56",
   "metadata": {},
   "source": [
    "For the Shannon entropy of a time series, we can still use the same definition and methods as for a random variable. This means, we can use any of the follloiwing methods to estimate entropy for samples of a time series:\n",
    "\n",
    "* KDE method\n",
    "* KL method\n",
    "\n",
    "\n",
    "Below, we have verified this for a set of samples from p-th order autoregressive, AR(p), models with $p=1,2$.\n",
    "\n",
    "**Exact Entropy for Gaussian variables:**\n",
    "According to Ref. 19 in see [Barnett et al. 2009](https://arxiv.org/pdf/0910.4514), for a **multivariate Gaussian RV** $\\mathbf{x}$, we have the exact entropy given by\n",
    "\n",
    "$$\n",
    "H(\\mathbf{x}) = \\frac{1}{2}\\ln(|\\Sigma(\\mathbf{x})|)+\\frac{1}{2}n\\ln(2\\pi e)\n",
    "$$\n",
    "\n",
    "where $\\Sigma(\\mathbf{x})$ is the covariance of $\\mathbf{x}$ and $n$ is the dimensionality of $\\mathbf{x}$. \n",
    "\n",
    "* Clearly, for a single variate RV $x$, the covariance reduces to variance. \n",
    "* For a time series written in terms of AR(p) with iid noise:\n",
    "\n",
    "\n",
    "For AR(1) model:\n",
    "\n",
    "$$\n",
    "x_i = a x_{i-1} + \\varepsilon_i\\,,\\quad\\quad \\varepsilon_i~\\sim(0,\\sigma_d^2)\n",
    "$$\n",
    "\n",
    "Therefore, \n",
    "$$\n",
    "\\begin{eqnarray*}\n",
    "V(x_i)&=&V(ax_{i-1})+V(\\varepsilon_i) \\Rightarrow\n",
    "V(x_i)=a^2V(x_{i-1})+\\sigma_d^2 \\Rightarrow\n",
    "V(x) =a^2 V(x) \\sigma_d^2 \\Rightarrow\\\\\n",
    "V(x)&=&\\sigma_d^2/(1-a^2) \n",
    "\\end{eqnarray*}\n",
    "$$\n",
    "\n",
    "Therefore, \n",
    "\n",
    "$$\n",
    "H_{exact}(x) = \\frac{1}{2}\\ln(2\\pi e \\sigma_d^2) - \\frac{1}{2}\\ln(1-a^2)\n",
    "$$"
   ]
  },
  {
   "cell_type": "markdown",
   "id": "2dbe515c",
   "metadata": {},
   "source": [
    "### Synthetic time series data from AR(1)"
   ]
  },
  {
   "cell_type": "code",
   "execution_count": 7,
   "id": "6cc6844e",
   "metadata": {},
   "outputs": [
    {
     "name": "stdout",
     "output_type": "stream",
     "text": [
      "... Generating n=10000 synthetic time-series samples.\n",
      "    using method synData3\n",
      "    with noise sdev = 0.5\n"
     ]
    }
   ],
   "source": [
    "n = 10000 #number of samples\n",
    "a1 = 0.9   #AR(1) coefficient\n",
    "sig_d = 0.5   #AR(1) noise sdev\n",
    "\n",
    "synOpts = {'type':'synData3',\n",
    "           'dt':(np.random.rand(n-1)+0.1)*np.ones(n-1),\n",
    "           'noiseSdev':sig_d, \n",
    "           'coefs':[a1]}\n",
    "t,xt = syntheticData(n=n,opts=synOpts).gen()"
   ]
  },
  {
   "cell_type": "code",
   "execution_count": 8,
   "id": "3420d20f",
   "metadata": {},
   "outputs": [
    {
     "name": "stdout",
     "output_type": "stream",
     "text": [
      "H - Exact: 1.5561569560555528\n",
      "H - Binning method: 3.553298892423354\n",
      "H - KDE method: 1.5625292110007216\n",
      "H - KL method: 1.5582112449450847\n"
     ]
    }
   ],
   "source": [
    "#Exact entropy\n",
    "H_ex = 0.5*np.log(2.*np.pi*np.e*sig_d**2.) - 0.5*np.log(1.-a1**2.)\n",
    "\n",
    "#Entropy - Binning method\n",
    "H_bin = entropy(xt).binning(nbin=20)\n",
    "\n",
    "#Entropy - KDE method\n",
    "H_kde = entropy(xt).kde()\n",
    "\n",
    "#Entropy - KL (KNN) method\n",
    "H_kl = entropy(xt).kl()\n",
    "\n",
    "print(\"H - Exact:\",H_ex)\n",
    "print(\"H - Binning method:\",H_bin)\n",
    "print(\"H - KDE method:\",H_kde)\n",
    "print(\"H - KL method:\",H_kl)"
   ]
  },
  {
   "cell_type": "markdown",
   "id": "6c3f9858",
   "metadata": {},
   "source": [
    "### Synthetic time series data from higher-order AR"
   ]
  },
  {
   "cell_type": "code",
   "execution_count": 9,
   "id": "8f3a0c0e",
   "metadata": {},
   "outputs": [
    {
     "name": "stdout",
     "output_type": "stream",
     "text": [
      "... Generating n=10000 synthetic time-series samples.\n",
      "    using method synData3\n",
      "    with noise sdev = 0.9\n"
     ]
    }
   ],
   "source": [
    "n = 10000 #number of samples\n",
    "aList = [3.1378,-3.9789,2.6788,-1.0401,0.2139,-0.0133]   \n",
    "sig_d = 0.9   #AR(p) noise sdev\n",
    "\n",
    "synOpts = {'type':'synData3',\n",
    "           'dt':(np.random.rand(n-1)+0.1)*np.ones(n-1),\n",
    "           'noiseSdev':sig_d, \n",
    "           'coefs':aList}\n",
    "t,xt = syntheticData(n=n,opts=synOpts).gen()"
   ]
  },
  {
   "cell_type": "code",
   "execution_count": 10,
   "id": "9509eb0f",
   "metadata": {},
   "outputs": [
    {
     "name": "stdout",
     "output_type": "stream",
     "text": [
      "H - Binning method: 0.23868212124669025\n",
      "H - KDE method: 5.702379011516009\n",
      "H - KL method: 5.701153993051443\n"
     ]
    }
   ],
   "source": [
    "#Entropy - Binning method\n",
    "H_bin = entropy(xt).binning(nbin=20)\n",
    "\n",
    "#Entropy - KDE method\n",
    "H_kde = entropy(xt).kde()\n",
    "\n",
    "#Entropy - KL (KNN) method\n",
    "H_kl = entropy(xt).kl(k=5)\n",
    "\n",
    "print(\"H - Binning method:\",H_bin)\n",
    "print(\"H - KDE method:\",H_kde)\n",
    "print(\"H - KL method:\",H_kl)"
   ]
  },
  {
   "cell_type": "markdown",
   "id": "510657d6",
   "metadata": {},
   "source": [
    "## Conclusions\n",
    "* KDE and KL (KNN) methods provide very similar estimates for Shannon entropy of RVs and TS. \n",
    "* Binning method is too senstive to the bin size. "
   ]
  }
 ],
 "metadata": {
  "kernelspec": {
   "display_name": "Python 3 (ipykernel)",
   "language": "python",
   "name": "python3"
  },
  "language_info": {
   "codemirror_mode": {
    "name": "ipython",
    "version": 3
   },
   "file_extension": ".py",
   "mimetype": "text/x-python",
   "name": "python",
   "nbconvert_exporter": "python",
   "pygments_lexer": "ipython3",
   "version": "3.7.16"
  }
 },
 "nbformat": 4,
 "nbformat_minor": 5
}
