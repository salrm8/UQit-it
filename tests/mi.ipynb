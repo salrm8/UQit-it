{
 "cells": [
  {
   "cell_type": "markdown",
   "id": "9f11e45f",
   "metadata": {},
   "source": [
    "# Mutual Information (MI)\n",
    "\n",
    "Saleh Rezaeiravesh, saleh.rezaeiravesh@manchester.ac.uk\n",
    "___"
   ]
  },
  {
   "cell_type": "code",
   "execution_count": 1,
   "id": "ac36ef7e",
   "metadata": {},
   "outputs": [],
   "source": [
    "import numpy as np\n",
    "import numpy.linalg as la\n",
    "import matplotlib.pyplot as plt\n",
    "\n",
    "import sys\n",
    "sys.path.append('../core/')\n",
    "from mi import mi, mi_multiLag\n",
    "import synData"
   ]
  },
  {
   "cell_type": "markdown",
   "id": "9b1fa828",
   "metadata": {},
   "source": [
    "## Mutual Information (MI)\n",
    "\n",
    "[Shannon 1948](https://people.math.harvard.edu/~ctm/home/text/others/shannon/entropy/entropy.pdf): MI can be used to quantify the overlap of information content of two systems/variables.  "
   ]
  },
  {
   "cell_type": "markdown",
   "id": "62bf21f1",
   "metadata": {},
   "source": [
    "### MI for Random Variables (RVs)\n",
    "Consider two continuous **random variables** $X$ and $Y$, for which we have $n$ jointly observed $(x_i,y_i)$. If the joint PDF of $X$ and $Y$ is $f(x,y)$, then the mutual information between $X$ and $Y$ is, \n",
    "\n",
    "$$\n",
    "I(X,Y) =\\int\\int p(x,y)\\ln( \\frac{p(x,y)}{p_x(x)p_y(y)}) dx dy\n",
    "$$\n",
    "\n",
    "### MI for Time Series (TS)\n",
    "* In contrast for uncorrelated RVs $X, Y$, where the mutual information is a symmetric quantity, for $x(t)$ and $y(t)$, the MI can be **asymmetric**. \n",
    "\n",
    "* MI measure **nonlinear** dependency between time series or RVs.\n",
    "\n",
    "* According to [Schreiber, 2000](https://arxiv.org/pdf/nlin/0001042), the MI at lag $\\tau$ for two time series $x_t$ and $y_t$ is defined as, \n",
    "\n",
    "$$\n",
    "M_{xy}(\\tau) = - \\sum_{k} p(x_k,y_{k-\\tau}) \\log\\frac{p(x_k,y_{k-\\tau})}{p(x_k)p(y_k)}\n",
    "$$\n",
    "\n",
    "\n",
    "**Note:** Mutual information (MI) is an asymmetric metric. "
   ]
  },
  {
   "cell_type": "markdown",
   "id": "f36cf977",
   "metadata": {},
   "source": [
    "## Methods for Estimating MI\n",
    "\n",
    "### KDE/Binning methods\n",
    "Our aim is to esimtate $\\hat{I}(X,Y)$ from a set of finite observed samples $z_i=(x_i,y_i)$, $i=1,2,\\cdots,n$.\n",
    "\n",
    "In many text books, e.g. [this one](http://staff.ustc.edu.cn/~cgong821/Wiley.Interscience.Elements.of.Information.Theory.Jul.2006.eBook-DDU.pdf), the **mutual information (MI)** is written as, \n",
    "\n",
    "$$\n",
    "I(X,Y) = H(X) + H(Y) - H(X,Y)\n",
    "$$\n",
    "\n",
    "\n",
    "where, \n",
    "* $H(X)$ and $H(Y)$ are the **marginal entropies**, and\n",
    "* $H(X,Y)$ is the **joint entropy**\n",
    "\n",
    "The above three entropy can be estimated using KDE or Binning methods, for both RVs and TS. \n",
    "\n",
    "For time series, the above expression reads as, \n",
    "\n",
    "$$\n",
    "I(x_k,y_{k-\\tau}) = H(x_k) + H(y_k) - H(x_k,y_{k-\\tau})\n",
    "$$\n",
    "\n",
    "We can extend the KDE/Binning methods to compute $I(X,Y)$ by:\n",
    "1. Estimate the marginal PDFs of $X$ and $Y$\n",
    "2. Estimate the joint PDF of $X$ and $Y$\n",
    "3. Numerically compute the above double integral\n",
    "\n",
    "### KSG (KL/KNN-based) method:\n"
   ]
  },
  {
   "cell_type": "markdown",
   "id": "749bf685",
   "metadata": {},
   "source": [
    "As detailed in [Kraskov-Stogbauer-Grassberger (KSG), 2004](https://arxiv.org/pdf/cond-mat/0305641), the error involved in estimation of each separate $H$ using KL/KNN method are not cencelled by each others' and would propagate into the estimated $I(X,y)$:\n",
    "\n",
    "$$\n",
    "\\hat{H}(X) = -\\psi(k)+\\psi(N)+\\ln c_{d_x} +\\frac{d_x}{n}\\sum_{i=1}^n \\ln \\epsilon_i\n",
    "$$\n",
    "\n",
    "$$\n",
    "\\hat{H}(Y) = -\\psi(k)+\\psi(N)+\\ln c_{d_y} +\\frac{d_y}{n}\\sum_{i=1}^n \\ln \\epsilon_i\n",
    "$$\n",
    "\n",
    "$$\n",
    "\\hat{H}(X,Y) = -\\psi(k)+\\psi(N)+\\ln (c_{d_x}c_{d_y}) +\\frac{d_x+d_y}{n}\\sum_{i=1}^n \\ln \\epsilon_i\n",
    "$$\n",
    "\n",
    "This reference proposed alternative approach based on the KL/KNN estimator. We call this **KSG Estimator**. They proposed two estimators, where we use the 1st one. \n",
    "\n",
    "$$\n",
    "I^{(1)}(X,Y) = \\psi(k) + \\psi(n) - \\langle \\psi(n_x)+\\psi(n_y)\\rangle\n",
    "$$\n",
    "\n",
    "$$\n",
    "I^{(2)}(X,Y) = \\psi(k) + \\psi(n) - 1/k - \\langle \\psi(n_x+1)+\\psi(n_y+1)\\rangle\n",
    "$$\n",
    "\n",
    "The above expressions can be evaluated by the KNN method, for both RVs and time series. "
   ]
  },
  {
   "cell_type": "markdown",
   "id": "0b54c5a4",
   "metadata": {},
   "source": [
    "## Validation of MI estimators for RVs"
   ]
  },
  {
   "cell_type": "markdown",
   "id": "b6d2ffbe",
   "metadata": {},
   "source": [
    "For multivariate Guassian variables $(X_1,X_2,\\cdots,X_m)$ with mean zero and unit standard deviation and covariance matrix $V_{m\\times m}$, the exact MI is, \n",
    "\n",
    "$$\n",
    "I(X_1,X_2,\\cdots,X_m) = -\\frac{1}{2}\\ln(\\det(V))\n",
    "$$\n",
    "\n",
    "This implies that if the correlation between each pair of joint Gaussian RVs goes to zero, the associated MI goes to zero, too. "
   ]
  },
  {
   "cell_type": "code",
   "execution_count": 2,
   "id": "ca7a7a8b",
   "metadata": {},
   "outputs": [
    {
     "name": "stdout",
     "output_type": "stream",
     "text": [
      "Exact MI:  0.5108256237659909\n",
      "KDE MI:  0.5165657559270311\n",
      "KSG MI:  0.5027533730023723\n"
     ]
    }
   ],
   "source": [
    "#create joint samples from bivariate Gaussian distribution\n",
    "rho = -0.8   #correlation coefficient - can try different values from [-1,1]\n",
    "mean=np.zeros(2)\n",
    "cov=np.array([[1,rho],[rho,1]])   \n",
    "np.random.seed(205)\n",
    "x_ = np.random.multivariate_normal(mean, cov,10000)\n",
    "\n",
    "#Exact and KDE values of MI \n",
    "mi_exact = -0.5*np.log(la.det(cov))\n",
    "\n",
    "#MI estimated by the KDE method with Monte Carlo integration \n",
    "mi_kde = mi(x_[:,0],x_[:,1]).kde()\n",
    "\n",
    "#MI estimated by the KSG method\n",
    "mi_ksg = mi(x_[:,0],x_[:,1]).ksg(k=3)\n",
    "\n",
    "print('Exact MI: ',mi_exact)\n",
    "print('KDE MI: ',mi_kde)\n",
    "print('KSG MI: ',mi_ksg)"
   ]
  },
  {
   "cell_type": "markdown",
   "id": "b389265d",
   "metadata": {},
   "source": [
    "## Validation of MI estimators for time series"
   ]
  },
  {
   "cell_type": "markdown",
   "id": "bb3a680b",
   "metadata": {},
   "source": [
    "Below, we can compute MI between a bivariate time series generated from a VAR(p) with $p\\leq 1$."
   ]
  },
  {
   "cell_type": "code",
   "execution_count": 3,
   "id": "c3990281",
   "metadata": {},
   "outputs": [],
   "source": [
    "xt, _, _ = synData.varSampGen(n=10000,order=3)"
   ]
  },
  {
   "cell_type": "code",
   "execution_count": 4,
   "id": "40f54092",
   "metadata": {},
   "outputs": [
    {
     "name": "stdout",
     "output_type": "stream",
     "text": [
      "MI - kde method: 0.45651886474788395\n",
      "MI - ksg method: 0.45596549825345534\n"
     ]
    }
   ],
   "source": [
    "lag = 1\n",
    "\n",
    "#KDE method\n",
    "mi_kde = mi(xt[:-lag,0], xt[lag:,1]).kde()\n",
    "print('MI - kde method:',mi_kde)\n",
    "\n",
    "#KSG method\n",
    "mi_ksg = mi(xt[:-lag,0], xt[lag:,1]).ksg(k=3)\n",
    "print('MI - ksg method:',mi_ksg)"
   ]
  },
  {
   "cell_type": "markdown",
   "id": "bcd4ab22",
   "metadata": {},
   "source": [
    "We can compute the MI between the two time series at various lags: $I(x_k,y_{k-\\tau})$"
   ]
  },
  {
   "cell_type": "code",
   "execution_count": 5,
   "id": "d3a51cc0",
   "metadata": {},
   "outputs": [
    {
     "name": "stdout",
     "output_type": "stream",
     "text": [
      "Max MI and its lag - KDE method: 0.8608208557526051 0\n",
      "Max MI and its lag - KSG method: 0.8481351438928577 0\n"
     ]
    }
   ],
   "source": [
    "lagList_=np.arange(0,10,1)\n",
    "\n",
    "mi_kde_list, maxMI_kde, maxMIlag_kde = mi_multiLag(xt[:,0],xt[:,1],lagList_).kde()\n",
    "mi_ksg_list, maxMI_ksg, maxMIlag_ksg = mi_multiLag(xt[:,0],xt[:,1],lagList_).ksg(k=3)\n",
    "\n",
    "print('Max MI and its lag - KDE method:',maxMI_kde, maxMIlag_kde)\n",
    "print('Max MI and its lag - KSG method:',maxMI_ksg, maxMIlag_ksg)"
   ]
  },
  {
   "cell_type": "code",
   "execution_count": 6,
   "id": "a68d493c",
   "metadata": {},
   "outputs": [
    {
     "data": {
      "image/png": "[encoded data removed]",
      "text/plain": [
       "<Figure size 640x480 with 1 Axes>"
      ]
     },
     "metadata": {},
     "output_type": "display_data"
    }
   ],
   "source": [
    "plt.plot(lagList_,mi_kde_list,'-ob',label='KDE method')\n",
    "plt.plot(lagList_,mi_ksg_list,'--xr',label='KSG method')\n",
    "\n",
    "plt.xlabel('Lag')\n",
    "plt.ylabel('MI')\n",
    "plt.legend(loc='best')\n",
    "plt.show()"
   ]
  },
  {
   "cell_type": "markdown",
   "id": "cf529c6a",
   "metadata": {},
   "source": [
    "We can repeat above but changing the lagged samples to the other time series to show the asymmetry of the MI. We compute $I(x_{k-\\tau},y_{k})$ "
   ]
  },
  {
   "cell_type": "code",
   "execution_count": 7,
   "id": "034980a5",
   "metadata": {},
   "outputs": [
    {
     "name": "stdout",
     "output_type": "stream",
     "text": [
      "Max MI and its lag - KDE method: 0.8608208557526051 0\n",
      "Max MI and its lag - KSG method: 0.8481351438928577 0\n"
     ]
    }
   ],
   "source": [
    "lagList_=np.arange(0,10,1)\n",
    "\n",
    "mi_kde_list, maxMI_kde, maxMIlag_kde = mi_multiLag(xt[:,1],xt[:,0],lagList_).kde()\n",
    "mi_ksg_list, maxMI_ksg, maxMIlag_ksg = mi_multiLag(xt[:,1],xt[:,0],lagList_).ksg(k=3)\n",
    "\n",
    "print('Max MI and its lag - KDE method:',maxMI_kde, maxMIlag_kde)\n",
    "print('Max MI and its lag - KSG method:',maxMI_ksg, maxMIlag_ksg)"
   ]
  },
  {
   "cell_type": "code",
   "execution_count": 8,
   "id": "21e77a89",
   "metadata": {},
   "outputs": [
    {
     "data": {
      "image/png": "[encoded data removed]",
      "text/plain": [
       "<Figure size 640x480 with 1 Axes>"
      ]
     },
     "metadata": {},
     "output_type": "display_data"
    }
   ],
   "source": [
    "plt.plot(lagList_,mi_kde_list,'-ob',label='KDE method')\n",
    "plt.plot(lagList_,mi_ksg_list,'--xr',label='KSG method')\n",
    "\n",
    "plt.xlabel('Lag')\n",
    "plt.ylabel('MI')\n",
    "plt.legend(loc='best')\n",
    "plt.show()"
   ]
  }
 ],
 "metadata": {
  "kernelspec": {
   "display_name": "Python 3 (ipykernel)",
   "language": "python",
   "name": "python3"
  },
  "language_info": {
   "codemirror_mode": {
    "name": "ipython",
    "version": 3
   },
   "file_extension": ".py",
   "mimetype": "text/x-python",
   "name": "python",
   "nbconvert_exporter": "python",
   "pygments_lexer": "ipython3",
   "version": "3.7.16"
  }
 },
 "nbformat": 4,
 "nbformat_minor": 5
}
