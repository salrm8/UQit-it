{
 "cells": [
  {
   "cell_type": "markdown",
   "id": "87ea0559",
   "metadata": {},
   "source": [
    "# Multivariate Entropy"
   ]
  },
  {
   "cell_type": "code",
   "execution_count": 1,
   "id": "fff9a469",
   "metadata": {},
   "outputs": [],
   "source": [
    "import numpy as np\n",
    "import matplotlib.pyplot as plt\n",
    "\n",
    "import sys\n",
    "sys.path.append('../core/')\n",
    "from te import bi_te, mv_te"
   ]
  },
  {
   "cell_type": "code",
   "execution_count": 2,
   "id": "745ad2e4",
   "metadata": {},
   "outputs": [],
   "source": [
    "def tsGen3(n=10000):\n",
    "    \"\"\"\n",
    "    VAR(2) for 4 variates x1[t], x2[t], x3[t], x4[t]\n",
    "    \"\"\"\n",
    "    np.random.seed(200)\n",
    "    x=np.zeros((2*n,4))\n",
    "    Veps = np.eye(4)\n",
    "    e = np.random.multivariate_normal(np.zeros(4), cov=Veps,size=2*n)\n",
    "    \n",
    "    for i in range(2,2*n):\n",
    "        x[i,0] = 0.8*x[i-1,0] + e[i,0]\n",
    "        x[i,1] = 0.8*x[i-1,1] + 0.5*x[i-2,0] + e[i,1]\n",
    "        x[i,2] = 0.7*x[i-1,0] + e[i,2]\n",
    "        x[i,3] = 0.7*x[i-2,0] + e[i,3]\n",
    "    return x[n:,:]  "
   ]
  },
  {
   "cell_type": "code",
   "execution_count": 3,
   "id": "2a82909f",
   "metadata": {},
   "outputs": [],
   "source": [
    "x = tsGen3(n=5000)"
   ]
  },
  {
   "cell_type": "markdown",
   "id": "f5976501",
   "metadata": {},
   "source": [
    "## Transfer entropy"
   ]
  },
  {
   "cell_type": "code",
   "execution_count": 4,
   "id": "cbbb8c7e",
   "metadata": {},
   "outputs": [],
   "source": [
    "#Settings\n",
    "lag = 3  #=embedding dimension, lag at which the TEs are computed\n",
    "knn_ = int(np.sqrt(x.shape[0])/2)    #value of k in the KNN method used in KSG estimator - can be set manually"
   ]
  },
  {
   "cell_type": "markdown",
   "id": "2bb0cb46",
   "metadata": {},
   "source": [
    "### Sanity check\n",
    "Both bivariate and multivariate TE should return the same value of single source single target. "
   ]
  },
  {
   "cell_type": "code",
   "execution_count": 5,
   "id": "328236c2",
   "metadata": {},
   "outputs": [
    {
     "name": "stdout",
     "output_type": "stream",
     "text": [
      "0.15053861116670353 0.15053861116670353\n"
     ]
    }
   ],
   "source": [
    "\n",
    "temv_ = mv_te(X=[x[:,0]], y=x[:,1], embDim=lag).multiSrc_ksg(k=20)\n",
    "tebi_ = bi_te(x[:,0], x[:,1], embDim=lag).ksg(k=20)\n",
    "print(temv_,tebi_)"
   ]
  },
  {
   "cell_type": "markdown",
   "id": "bbf09d2e",
   "metadata": {},
   "source": [
    "### TE estimate for multiple sources to a single target"
   ]
  },
  {
   "cell_type": "code",
   "execution_count": 6,
   "id": "ccf8641d",
   "metadata": {},
   "outputs": [
    {
     "name": "stdout",
     "output_type": "stream",
     "text": [
      "0.12177863590079818\n"
     ]
    }
   ],
   "source": [
    "te134_2 = mv_te(X=[x[:,0],x[:,2],x[:,3]], y=x[:,1], embDim=lag).multiSrc_ksg(k=knn_)\n",
    "print(te134_2)"
   ]
  },
  {
   "cell_type": "code",
   "execution_count": 7,
   "id": "60f9a707",
   "metadata": {},
   "outputs": [
    {
     "name": "stdout",
     "output_type": "stream",
     "text": [
      "0.08320960816564771\n"
     ]
    }
   ],
   "source": [
    "te34_2 = mv_te(X=[x[:,2],x[:,3]], y=x[:,1], embDim=lag).multiSrc_ksg(k=knn_)\n",
    "print(te34_2)"
   ]
  },
  {
   "cell_type": "code",
   "execution_count": 8,
   "id": "b85eb26e",
   "metadata": {},
   "outputs": [
    {
     "name": "stdout",
     "output_type": "stream",
     "text": [
      "0.128547036060485\n"
     ]
    }
   ],
   "source": [
    "te14_2 = mv_te(X=[x[:,0],x[:,3]], y=x[:,1], embDim=lag).multiSrc_ksg(k=knn_)\n",
    "print(te14_2)"
   ]
  },
  {
   "cell_type": "code",
   "execution_count": 9,
   "id": "9339d053",
   "metadata": {},
   "outputs": [
    {
     "name": "stdout",
     "output_type": "stream",
     "text": [
      "0.13091874246195312\n"
     ]
    }
   ],
   "source": [
    "te13_2 = mv_te(X=[x[:,0],x[:,2]], y=x[:,1], embDim=lag).multiSrc_ksg(k=knn_)\n",
    "print(te13_2)"
   ]
  },
  {
   "cell_type": "code",
   "execution_count": 10,
   "id": "f659cbca",
   "metadata": {},
   "outputs": [
    {
     "name": "stdout",
     "output_type": "stream",
     "text": [
      "TE 1->2 0.038569027735150474\n",
      "TE 3->2 -0.006768400159686827\n",
      "TE 4->2 -0.009140106561154937\n"
     ]
    }
   ],
   "source": [
    "print('TE 1->2',te134_2-te34_2)\n",
    "print('TE 3->2',te134_2-te14_2)\n",
    "print('TE 4->2',te134_2-te13_2)"
   ]
  },
  {
   "cell_type": "markdown",
   "id": "c176948c",
   "metadata": {},
   "source": [
    "### Net TE from each source within multiple sources to a single target"
   ]
  },
  {
   "cell_type": "markdown",
   "id": "ca316514",
   "metadata": {},
   "source": [
    "Instead of manually computing the TEs in the above, we can use the following method from the same class:"
   ]
  },
  {
   "cell_type": "code",
   "execution_count": 11,
   "id": "cdb7a4e8",
   "metadata": {},
   "outputs": [
    {
     "name": "stdout",
     "output_type": "stream",
     "text": [
      "{'TE_all->y': 0.12177863590079818, 'TE0->y': 0.038569027735150474, 'TE1->y': -0.006768400159686827, 'TE2->y': -0.009140106561154937}\n"
     ]
    }
   ],
   "source": [
    "teDict = mv_te(X=[x[:,0],x[:,2],x[:,3]], y=x[:,1], embDim=lag).ntwrk_ksg(k=knn_)\n",
    "print(teDict)"
   ]
  },
  {
   "cell_type": "code",
   "execution_count": null,
   "id": "abc1c673",
   "metadata": {},
   "outputs": [],
   "source": []
  }
 ],
 "metadata": {
  "kernelspec": {
   "display_name": "Python 3 (ipykernel)",
   "language": "python",
   "name": "python3"
  },
  "language_info": {
   "codemirror_mode": {
    "name": "ipython",
    "version": 3
   },
   "file_extension": ".py",
   "mimetype": "text/x-python",
   "name": "python",
   "nbconvert_exporter": "python",
   "pygments_lexer": "ipython3",
   "version": "3.7.16"
  }
 },
 "nbformat": 4,
 "nbformat_minor": 5
}
